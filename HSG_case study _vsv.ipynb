{
 "cells": [
  {
   "cell_type": "code",
   "execution_count": 1,
   "id": "dba31932",
   "metadata": {},
   "outputs": [],
   "source": [
    "import pandas as pd\n",
    "import numpy as np\n",
    "import matplotlib.pyplot as plt\n"
   ]
  },
  {
   "cell_type": "code",
   "execution_count": 2,
   "id": "9673a83f",
   "metadata": {},
   "outputs": [
    {
     "name": "stdout",
     "output_type": "stream",
     "text": [
      "Empty DataFrame\n",
      "Columns: []\n",
      "Index: []\n"
     ]
    }
   ],
   "source": [
    "import pandas as pd\n",
    "\n",
    "#calling dataframe constructor \n",
    "df=pd.DataFrame()\n",
    "\n",
    "print(df)"
   ]
  },
  {
   "cell_type": "code",
   "execution_count": 3,
   "id": "73dd519f",
   "metadata": {},
   "outputs": [],
   "source": [
    "df['Claim_number']=['X%d' % i for i in range(0,10000,1)]"
   ]
  },
  {
   "cell_type": "code",
   "execution_count": 4,
   "id": "ce46ce66",
   "metadata": {},
   "outputs": [],
   "source": [
    "data =np.random.randint(0,8000,size=10000)\n",
    "df['Paid_Amount']=pd.DataFrame(data,columns=['Paid_Amount'])\n"
   ]
  },
  {
   "cell_type": "code",
   "execution_count": 5,
   "id": "228ee3fa",
   "metadata": {},
   "outputs": [],
   "source": [
    "df['Date_paid']=pd.DataFrame({'Date_paid':pd.date_range('01/01/2020','01/31/2020',periods=60)})"
   ]
  },
  {
   "cell_type": "code",
   "execution_count": 6,
   "id": "bd8969e7",
   "metadata": {},
   "outputs": [],
   "source": [
    "items=['H1','H2','H3','H4','H5','H6','H7','H8','H9','H9']\n",
    "df['hospitals']=np.random.choice(items,size=len(df))"
   ]
  },
  {
   "cell_type": "code",
   "execution_count": 7,
   "id": "e4d71f43",
   "metadata": {},
   "outputs": [],
   "source": [
    "items=['V1','V2','V3','V4','V5', 'V6','V7','V8','V9','V10']\n",
    "df['Vendors']=np.random.choice(items,size=len(df))\n"
   ]
  },
  {
   "cell_type": "code",
   "execution_count": 8,
   "id": "27c6df1e",
   "metadata": {},
   "outputs": [
    {
     "data": {
      "text/html": [
       "<div>\n",
       "<style scoped>\n",
       "    .dataframe tbody tr th:only-of-type {\n",
       "        vertical-align: middle;\n",
       "    }\n",
       "\n",
       "    .dataframe tbody tr th {\n",
       "        vertical-align: top;\n",
       "    }\n",
       "\n",
       "    .dataframe thead th {\n",
       "        text-align: right;\n",
       "    }\n",
       "</style>\n",
       "<table border=\"1\" class=\"dataframe\">\n",
       "  <thead>\n",
       "    <tr style=\"text-align: right;\">\n",
       "      <th></th>\n",
       "      <th>Claim_number</th>\n",
       "      <th>Paid_Amount</th>\n",
       "      <th>Date_paid</th>\n",
       "      <th>hospitals</th>\n",
       "      <th>Vendors</th>\n",
       "    </tr>\n",
       "  </thead>\n",
       "  <tbody>\n",
       "    <tr>\n",
       "      <th>0</th>\n",
       "      <td>X0</td>\n",
       "      <td>4743</td>\n",
       "      <td>2020-01-01 00:00:00.000000000</td>\n",
       "      <td>H5</td>\n",
       "      <td>V6</td>\n",
       "    </tr>\n",
       "    <tr>\n",
       "      <th>1</th>\n",
       "      <td>X1</td>\n",
       "      <td>436</td>\n",
       "      <td>2020-01-01 12:12:12.203389830</td>\n",
       "      <td>H7</td>\n",
       "      <td>V3</td>\n",
       "    </tr>\n",
       "    <tr>\n",
       "      <th>2</th>\n",
       "      <td>X2</td>\n",
       "      <td>5108</td>\n",
       "      <td>2020-01-02 00:24:24.406779661</td>\n",
       "      <td>H6</td>\n",
       "      <td>V5</td>\n",
       "    </tr>\n",
       "    <tr>\n",
       "      <th>3</th>\n",
       "      <td>X3</td>\n",
       "      <td>1616</td>\n",
       "      <td>2020-01-02 12:36:36.610169491</td>\n",
       "      <td>H3</td>\n",
       "      <td>V3</td>\n",
       "    </tr>\n",
       "    <tr>\n",
       "      <th>4</th>\n",
       "      <td>X4</td>\n",
       "      <td>3861</td>\n",
       "      <td>2020-01-03 00:48:48.813559322</td>\n",
       "      <td>H4</td>\n",
       "      <td>V6</td>\n",
       "    </tr>\n",
       "  </tbody>\n",
       "</table>\n",
       "</div>"
      ],
      "text/plain": [
       "  Claim_number  Paid_Amount                     Date_paid hospitals Vendors\n",
       "0           X0         4743 2020-01-01 00:00:00.000000000        H5      V6\n",
       "1           X1          436 2020-01-01 12:12:12.203389830        H7      V3\n",
       "2           X2         5108 2020-01-02 00:24:24.406779661        H6      V5\n",
       "3           X3         1616 2020-01-02 12:36:36.610169491        H3      V3\n",
       "4           X4         3861 2020-01-03 00:48:48.813559322        H4      V6"
      ]
     },
     "execution_count": 8,
     "metadata": {},
     "output_type": "execute_result"
    }
   ],
   "source": [
    "df.head()"
   ]
  },
  {
   "cell_type": "code",
   "execution_count": 9,
   "id": "ea973afe",
   "metadata": {},
   "outputs": [],
   "source": [
    "df['Overly Paid']=np.where(df['Paid_Amount']>=5000,True,False)"
   ]
  },
  {
   "cell_type": "code",
   "execution_count": 10,
   "id": "ab148fbc",
   "metadata": {},
   "outputs": [
    {
     "data": {
      "text/html": [
       "<div>\n",
       "<style scoped>\n",
       "    .dataframe tbody tr th:only-of-type {\n",
       "        vertical-align: middle;\n",
       "    }\n",
       "\n",
       "    .dataframe tbody tr th {\n",
       "        vertical-align: top;\n",
       "    }\n",
       "\n",
       "    .dataframe thead th {\n",
       "        text-align: right;\n",
       "    }\n",
       "</style>\n",
       "<table border=\"1\" class=\"dataframe\">\n",
       "  <thead>\n",
       "    <tr style=\"text-align: right;\">\n",
       "      <th></th>\n",
       "      <th>Claim_number</th>\n",
       "      <th>Paid_Amount</th>\n",
       "      <th>Date_paid</th>\n",
       "      <th>hospitals</th>\n",
       "      <th>Vendors</th>\n",
       "      <th>Overly Paid</th>\n",
       "    </tr>\n",
       "  </thead>\n",
       "  <tbody>\n",
       "    <tr>\n",
       "      <th>0</th>\n",
       "      <td>X0</td>\n",
       "      <td>4743</td>\n",
       "      <td>2020-01-01 00:00:00.000000000</td>\n",
       "      <td>H5</td>\n",
       "      <td>V6</td>\n",
       "      <td>False</td>\n",
       "    </tr>\n",
       "    <tr>\n",
       "      <th>1</th>\n",
       "      <td>X1</td>\n",
       "      <td>436</td>\n",
       "      <td>2020-01-01 12:12:12.203389830</td>\n",
       "      <td>H7</td>\n",
       "      <td>V3</td>\n",
       "      <td>False</td>\n",
       "    </tr>\n",
       "    <tr>\n",
       "      <th>2</th>\n",
       "      <td>X2</td>\n",
       "      <td>5108</td>\n",
       "      <td>2020-01-02 00:24:24.406779661</td>\n",
       "      <td>H6</td>\n",
       "      <td>V5</td>\n",
       "      <td>True</td>\n",
       "    </tr>\n",
       "    <tr>\n",
       "      <th>3</th>\n",
       "      <td>X3</td>\n",
       "      <td>1616</td>\n",
       "      <td>2020-01-02 12:36:36.610169491</td>\n",
       "      <td>H3</td>\n",
       "      <td>V3</td>\n",
       "      <td>False</td>\n",
       "    </tr>\n",
       "    <tr>\n",
       "      <th>4</th>\n",
       "      <td>X4</td>\n",
       "      <td>3861</td>\n",
       "      <td>2020-01-03 00:48:48.813559322</td>\n",
       "      <td>H4</td>\n",
       "      <td>V6</td>\n",
       "      <td>False</td>\n",
       "    </tr>\n",
       "  </tbody>\n",
       "</table>\n",
       "</div>"
      ],
      "text/plain": [
       "  Claim_number  Paid_Amount                     Date_paid hospitals Vendors  \\\n",
       "0           X0         4743 2020-01-01 00:00:00.000000000        H5      V6   \n",
       "1           X1          436 2020-01-01 12:12:12.203389830        H7      V3   \n",
       "2           X2         5108 2020-01-02 00:24:24.406779661        H6      V5   \n",
       "3           X3         1616 2020-01-02 12:36:36.610169491        H3      V3   \n",
       "4           X4         3861 2020-01-03 00:48:48.813559322        H4      V6   \n",
       "\n",
       "   Overly Paid  \n",
       "0        False  \n",
       "1        False  \n",
       "2         True  \n",
       "3        False  \n",
       "4        False  "
      ]
     },
     "execution_count": 10,
     "metadata": {},
     "output_type": "execute_result"
    }
   ],
   "source": [
    "df.head()"
   ]
  },
  {
   "cell_type": "code",
   "execution_count": 11,
   "id": "1a24bacb",
   "metadata": {},
   "outputs": [],
   "source": [
    "df['Overly Paid']= df['Overly Paid'].replace(False, 'No')\n",
    "df['Overly Paid']=df['Overly Paid'].replace(True,'yes')"
   ]
  },
  {
   "cell_type": "code",
   "execution_count": 12,
   "id": "415e03dc",
   "metadata": {},
   "outputs": [
    {
     "data": {
      "text/html": [
       "<div>\n",
       "<style scoped>\n",
       "    .dataframe tbody tr th:only-of-type {\n",
       "        vertical-align: middle;\n",
       "    }\n",
       "\n",
       "    .dataframe tbody tr th {\n",
       "        vertical-align: top;\n",
       "    }\n",
       "\n",
       "    .dataframe thead th {\n",
       "        text-align: right;\n",
       "    }\n",
       "</style>\n",
       "<table border=\"1\" class=\"dataframe\">\n",
       "  <thead>\n",
       "    <tr style=\"text-align: right;\">\n",
       "      <th></th>\n",
       "      <th>Claim_number</th>\n",
       "      <th>Paid_Amount</th>\n",
       "      <th>Date_paid</th>\n",
       "      <th>hospitals</th>\n",
       "      <th>Vendors</th>\n",
       "      <th>Overly Paid</th>\n",
       "    </tr>\n",
       "  </thead>\n",
       "  <tbody>\n",
       "    <tr>\n",
       "      <th>0</th>\n",
       "      <td>X0</td>\n",
       "      <td>4743</td>\n",
       "      <td>2020-01-01 00:00:00.000000000</td>\n",
       "      <td>H5</td>\n",
       "      <td>V6</td>\n",
       "      <td>No</td>\n",
       "    </tr>\n",
       "    <tr>\n",
       "      <th>1</th>\n",
       "      <td>X1</td>\n",
       "      <td>436</td>\n",
       "      <td>2020-01-01 12:12:12.203389830</td>\n",
       "      <td>H7</td>\n",
       "      <td>V3</td>\n",
       "      <td>No</td>\n",
       "    </tr>\n",
       "    <tr>\n",
       "      <th>2</th>\n",
       "      <td>X2</td>\n",
       "      <td>5108</td>\n",
       "      <td>2020-01-02 00:24:24.406779661</td>\n",
       "      <td>H6</td>\n",
       "      <td>V5</td>\n",
       "      <td>yes</td>\n",
       "    </tr>\n",
       "    <tr>\n",
       "      <th>3</th>\n",
       "      <td>X3</td>\n",
       "      <td>1616</td>\n",
       "      <td>2020-01-02 12:36:36.610169491</td>\n",
       "      <td>H3</td>\n",
       "      <td>V3</td>\n",
       "      <td>No</td>\n",
       "    </tr>\n",
       "    <tr>\n",
       "      <th>4</th>\n",
       "      <td>X4</td>\n",
       "      <td>3861</td>\n",
       "      <td>2020-01-03 00:48:48.813559322</td>\n",
       "      <td>H4</td>\n",
       "      <td>V6</td>\n",
       "      <td>No</td>\n",
       "    </tr>\n",
       "  </tbody>\n",
       "</table>\n",
       "</div>"
      ],
      "text/plain": [
       "  Claim_number  Paid_Amount                     Date_paid hospitals Vendors  \\\n",
       "0           X0         4743 2020-01-01 00:00:00.000000000        H5      V6   \n",
       "1           X1          436 2020-01-01 12:12:12.203389830        H7      V3   \n",
       "2           X2         5108 2020-01-02 00:24:24.406779661        H6      V5   \n",
       "3           X3         1616 2020-01-02 12:36:36.610169491        H3      V3   \n",
       "4           X4         3861 2020-01-03 00:48:48.813559322        H4      V6   \n",
       "\n",
       "  Overly Paid  \n",
       "0          No  \n",
       "1          No  \n",
       "2         yes  \n",
       "3          No  \n",
       "4          No  "
      ]
     },
     "execution_count": 12,
     "metadata": {},
     "output_type": "execute_result"
    }
   ],
   "source": [
    "df.head()"
   ]
  },
  {
   "cell_type": "code",
   "execution_count": 13,
   "id": "da7871e7",
   "metadata": {},
   "outputs": [],
   "source": [
    "import datetime"
   ]
  },
  {
   "cell_type": "code",
   "execution_count": 14,
   "id": "39bd2589",
   "metadata": {},
   "outputs": [],
   "source": [
    "df['Date_paid'] = pd.to_datetime(df['Date_paid']).dt.date"
   ]
  },
  {
   "cell_type": "code",
   "execution_count": 15,
   "id": "ed44df7f",
   "metadata": {},
   "outputs": [
    {
     "data": {
      "text/html": [
       "<div>\n",
       "<style scoped>\n",
       "    .dataframe tbody tr th:only-of-type {\n",
       "        vertical-align: middle;\n",
       "    }\n",
       "\n",
       "    .dataframe tbody tr th {\n",
       "        vertical-align: top;\n",
       "    }\n",
       "\n",
       "    .dataframe thead th {\n",
       "        text-align: right;\n",
       "    }\n",
       "</style>\n",
       "<table border=\"1\" class=\"dataframe\">\n",
       "  <thead>\n",
       "    <tr style=\"text-align: right;\">\n",
       "      <th></th>\n",
       "      <th>Claim_number</th>\n",
       "      <th>Paid_Amount</th>\n",
       "      <th>Date_paid</th>\n",
       "      <th>hospitals</th>\n",
       "      <th>Vendors</th>\n",
       "      <th>Overly Paid</th>\n",
       "    </tr>\n",
       "  </thead>\n",
       "  <tbody>\n",
       "    <tr>\n",
       "      <th>0</th>\n",
       "      <td>X0</td>\n",
       "      <td>4743</td>\n",
       "      <td>2020-01-01</td>\n",
       "      <td>H5</td>\n",
       "      <td>V6</td>\n",
       "      <td>No</td>\n",
       "    </tr>\n",
       "    <tr>\n",
       "      <th>1</th>\n",
       "      <td>X1</td>\n",
       "      <td>436</td>\n",
       "      <td>2020-01-01</td>\n",
       "      <td>H7</td>\n",
       "      <td>V3</td>\n",
       "      <td>No</td>\n",
       "    </tr>\n",
       "    <tr>\n",
       "      <th>2</th>\n",
       "      <td>X2</td>\n",
       "      <td>5108</td>\n",
       "      <td>2020-01-02</td>\n",
       "      <td>H6</td>\n",
       "      <td>V5</td>\n",
       "      <td>yes</td>\n",
       "    </tr>\n",
       "    <tr>\n",
       "      <th>3</th>\n",
       "      <td>X3</td>\n",
       "      <td>1616</td>\n",
       "      <td>2020-01-02</td>\n",
       "      <td>H3</td>\n",
       "      <td>V3</td>\n",
       "      <td>No</td>\n",
       "    </tr>\n",
       "    <tr>\n",
       "      <th>4</th>\n",
       "      <td>X4</td>\n",
       "      <td>3861</td>\n",
       "      <td>2020-01-03</td>\n",
       "      <td>H4</td>\n",
       "      <td>V6</td>\n",
       "      <td>No</td>\n",
       "    </tr>\n",
       "  </tbody>\n",
       "</table>\n",
       "</div>"
      ],
      "text/plain": [
       "  Claim_number  Paid_Amount   Date_paid hospitals Vendors Overly Paid\n",
       "0           X0         4743  2020-01-01        H5      V6          No\n",
       "1           X1          436  2020-01-01        H7      V3          No\n",
       "2           X2         5108  2020-01-02        H6      V5         yes\n",
       "3           X3         1616  2020-01-02        H3      V3          No\n",
       "4           X4         3861  2020-01-03        H4      V6          No"
      ]
     },
     "execution_count": 15,
     "metadata": {},
     "output_type": "execute_result"
    }
   ],
   "source": [
    "df.head()"
   ]
  },
  {
   "cell_type": "code",
   "execution_count": 16,
   "id": "d6f078b9",
   "metadata": {},
   "outputs": [],
   "source": [
    "#Importing Libraries for using them\n",
    "from sklearn.tree import DecisionTreeClassifier\n",
    "from sklearn.datasets import make_blobs\n",
    "from sklearn.model_selection import train_test_split\n",
    "from sklearn.ensemble import RandomForestClassifier\n",
    "from sklearn.metrics import confusion_matrix"
   ]
  },
  {
   "cell_type": "code",
   "execution_count": 17,
   "id": "b51df706",
   "metadata": {},
   "outputs": [
    {
     "name": "stderr",
     "output_type": "stream",
     "text": [
      "C:\\Users\\Vardhan\\AppData\\Local\\Temp\\ipykernel_340\\2538954198.py:1: SettingWithCopyWarning: \n",
      "A value is trying to be set on a copy of a slice from a DataFrame\n",
      "\n",
      "See the caveats in the documentation: https://pandas.pydata.org/pandas-docs/stable/user_guide/indexing.html#returning-a-view-versus-a-copy\n",
      "  df['Overly Paid'][df['Overly Paid'] == 'No'] = 0\n",
      "C:\\Users\\Vardhan\\AppData\\Local\\Temp\\ipykernel_340\\2538954198.py:2: SettingWithCopyWarning: \n",
      "A value is trying to be set on a copy of a slice from a DataFrame\n",
      "\n",
      "See the caveats in the documentation: https://pandas.pydata.org/pandas-docs/stable/user_guide/indexing.html#returning-a-view-versus-a-copy\n",
      "  df['Overly Paid'][df['Overly Paid'] == 'yes'] = 1\n"
     ]
    }
   ],
   "source": [
    "df['Overly Paid'][df['Overly Paid'] == 'No'] = 0\n",
    "df['Overly Paid'][df['Overly Paid'] == 'yes'] = 1"
   ]
  },
  {
   "cell_type": "code",
   "execution_count": 18,
   "id": "b78217dc",
   "metadata": {},
   "outputs": [
    {
     "data": {
      "text/html": [
       "<div>\n",
       "<style scoped>\n",
       "    .dataframe tbody tr th:only-of-type {\n",
       "        vertical-align: middle;\n",
       "    }\n",
       "\n",
       "    .dataframe tbody tr th {\n",
       "        vertical-align: top;\n",
       "    }\n",
       "\n",
       "    .dataframe thead th {\n",
       "        text-align: right;\n",
       "    }\n",
       "</style>\n",
       "<table border=\"1\" class=\"dataframe\">\n",
       "  <thead>\n",
       "    <tr style=\"text-align: right;\">\n",
       "      <th></th>\n",
       "      <th>Claim_number</th>\n",
       "      <th>Paid_Amount</th>\n",
       "      <th>Date_paid</th>\n",
       "      <th>hospitals</th>\n",
       "      <th>Vendors</th>\n",
       "      <th>Overly Paid</th>\n",
       "    </tr>\n",
       "  </thead>\n",
       "  <tbody>\n",
       "    <tr>\n",
       "      <th>0</th>\n",
       "      <td>X0</td>\n",
       "      <td>4743</td>\n",
       "      <td>2020-01-01</td>\n",
       "      <td>H5</td>\n",
       "      <td>V6</td>\n",
       "      <td>0</td>\n",
       "    </tr>\n",
       "    <tr>\n",
       "      <th>1</th>\n",
       "      <td>X1</td>\n",
       "      <td>436</td>\n",
       "      <td>2020-01-01</td>\n",
       "      <td>H7</td>\n",
       "      <td>V3</td>\n",
       "      <td>0</td>\n",
       "    </tr>\n",
       "    <tr>\n",
       "      <th>2</th>\n",
       "      <td>X2</td>\n",
       "      <td>5108</td>\n",
       "      <td>2020-01-02</td>\n",
       "      <td>H6</td>\n",
       "      <td>V5</td>\n",
       "      <td>1</td>\n",
       "    </tr>\n",
       "    <tr>\n",
       "      <th>3</th>\n",
       "      <td>X3</td>\n",
       "      <td>1616</td>\n",
       "      <td>2020-01-02</td>\n",
       "      <td>H3</td>\n",
       "      <td>V3</td>\n",
       "      <td>0</td>\n",
       "    </tr>\n",
       "    <tr>\n",
       "      <th>4</th>\n",
       "      <td>X4</td>\n",
       "      <td>3861</td>\n",
       "      <td>2020-01-03</td>\n",
       "      <td>H4</td>\n",
       "      <td>V6</td>\n",
       "      <td>0</td>\n",
       "    </tr>\n",
       "  </tbody>\n",
       "</table>\n",
       "</div>"
      ],
      "text/plain": [
       "  Claim_number  Paid_Amount   Date_paid hospitals Vendors Overly Paid\n",
       "0           X0         4743  2020-01-01        H5      V6           0\n",
       "1           X1          436  2020-01-01        H7      V3           0\n",
       "2           X2         5108  2020-01-02        H6      V5           1\n",
       "3           X3         1616  2020-01-02        H3      V3           0\n",
       "4           X4         3861  2020-01-03        H4      V6           0"
      ]
     },
     "execution_count": 18,
     "metadata": {},
     "output_type": "execute_result"
    }
   ],
   "source": [
    "df.head()"
   ]
  },
  {
   "cell_type": "code",
   "execution_count": 19,
   "id": "aa29d845",
   "metadata": {},
   "outputs": [],
   "source": [
    "#Splitting the data and Target of desired dataframe\n",
    "data=df.iloc[:, 0:5]\n",
    "target=df.iloc[:, -1:]"
   ]
  },
  {
   "cell_type": "code",
   "execution_count": 20,
   "id": "927a3b26",
   "metadata": {},
   "outputs": [
    {
     "data": {
      "text/html": [
       "<div>\n",
       "<style scoped>\n",
       "    .dataframe tbody tr th:only-of-type {\n",
       "        vertical-align: middle;\n",
       "    }\n",
       "\n",
       "    .dataframe tbody tr th {\n",
       "        vertical-align: top;\n",
       "    }\n",
       "\n",
       "    .dataframe thead th {\n",
       "        text-align: right;\n",
       "    }\n",
       "</style>\n",
       "<table border=\"1\" class=\"dataframe\">\n",
       "  <thead>\n",
       "    <tr style=\"text-align: right;\">\n",
       "      <th></th>\n",
       "      <th>Overly Paid</th>\n",
       "    </tr>\n",
       "  </thead>\n",
       "  <tbody>\n",
       "    <tr>\n",
       "      <th>0</th>\n",
       "      <td>0</td>\n",
       "    </tr>\n",
       "    <tr>\n",
       "      <th>1</th>\n",
       "      <td>0</td>\n",
       "    </tr>\n",
       "    <tr>\n",
       "      <th>2</th>\n",
       "      <td>1</td>\n",
       "    </tr>\n",
       "    <tr>\n",
       "      <th>3</th>\n",
       "      <td>0</td>\n",
       "    </tr>\n",
       "    <tr>\n",
       "      <th>4</th>\n",
       "      <td>0</td>\n",
       "    </tr>\n",
       "  </tbody>\n",
       "</table>\n",
       "</div>"
      ],
      "text/plain": [
       "  Overly Paid\n",
       "0           0\n",
       "1           0\n",
       "2           1\n",
       "3           0\n",
       "4           0"
      ]
     },
     "execution_count": 20,
     "metadata": {},
     "output_type": "execute_result"
    }
   ],
   "source": [
    "target.head()"
   ]
  },
  {
   "cell_type": "code",
   "execution_count": 21,
   "id": "2e9cf214",
   "metadata": {},
   "outputs": [],
   "source": [
    "#Label encoding data\n",
    "from sklearn.preprocessing import LabelEncoder"
   ]
  },
  {
   "cell_type": "code",
   "execution_count": 22,
   "id": "4aaa397d",
   "metadata": {},
   "outputs": [
    {
     "data": {
      "text/html": [
       "<div>\n",
       "<style scoped>\n",
       "    .dataframe tbody tr th:only-of-type {\n",
       "        vertical-align: middle;\n",
       "    }\n",
       "\n",
       "    .dataframe tbody tr th {\n",
       "        vertical-align: top;\n",
       "    }\n",
       "\n",
       "    .dataframe thead th {\n",
       "        text-align: right;\n",
       "    }\n",
       "</style>\n",
       "<table border=\"1\" class=\"dataframe\">\n",
       "  <thead>\n",
       "    <tr style=\"text-align: right;\">\n",
       "      <th></th>\n",
       "      <th>Claim_number</th>\n",
       "      <th>Paid_Amount</th>\n",
       "      <th>Date_paid</th>\n",
       "      <th>hospitals</th>\n",
       "      <th>Vendors</th>\n",
       "    </tr>\n",
       "  </thead>\n",
       "  <tbody>\n",
       "    <tr>\n",
       "      <th>0</th>\n",
       "      <td>0</td>\n",
       "      <td>4743</td>\n",
       "      <td>2020-01-01</td>\n",
       "      <td>4</td>\n",
       "      <td>6</td>\n",
       "    </tr>\n",
       "    <tr>\n",
       "      <th>1</th>\n",
       "      <td>1</td>\n",
       "      <td>436</td>\n",
       "      <td>2020-01-01</td>\n",
       "      <td>6</td>\n",
       "      <td>3</td>\n",
       "    </tr>\n",
       "    <tr>\n",
       "      <th>2</th>\n",
       "      <td>1112</td>\n",
       "      <td>5108</td>\n",
       "      <td>2020-01-02</td>\n",
       "      <td>5</td>\n",
       "      <td>5</td>\n",
       "    </tr>\n",
       "    <tr>\n",
       "      <th>3</th>\n",
       "      <td>2223</td>\n",
       "      <td>1616</td>\n",
       "      <td>2020-01-02</td>\n",
       "      <td>2</td>\n",
       "      <td>3</td>\n",
       "    </tr>\n",
       "    <tr>\n",
       "      <th>4</th>\n",
       "      <td>3334</td>\n",
       "      <td>3861</td>\n",
       "      <td>2020-01-03</td>\n",
       "      <td>3</td>\n",
       "      <td>6</td>\n",
       "    </tr>\n",
       "  </tbody>\n",
       "</table>\n",
       "</div>"
      ],
      "text/plain": [
       "   Claim_number  Paid_Amount   Date_paid  hospitals  Vendors\n",
       "0             0         4743  2020-01-01          4        6\n",
       "1             1          436  2020-01-01          6        3\n",
       "2          1112         5108  2020-01-02          5        5\n",
       "3          2223         1616  2020-01-02          2        3\n",
       "4          3334         3861  2020-01-03          3        6"
      ]
     },
     "execution_count": 22,
     "metadata": {},
     "output_type": "execute_result"
    }
   ],
   "source": [
    "le = LabelEncoder()\n",
    "data.Claim_number = le.fit_transform(data.Claim_number)\n",
    "data.hospitals = le.fit_transform(data.hospitals)\n",
    "data.Vendors = le.fit_transform(data.Vendors)\n",
    "data.head()\n"
   ]
  },
  {
   "cell_type": "code",
   "execution_count": 23,
   "id": "caa73edb",
   "metadata": {},
   "outputs": [
    {
     "data": {
      "text/html": [
       "<div>\n",
       "<style scoped>\n",
       "    .dataframe tbody tr th:only-of-type {\n",
       "        vertical-align: middle;\n",
       "    }\n",
       "\n",
       "    .dataframe tbody tr th {\n",
       "        vertical-align: top;\n",
       "    }\n",
       "\n",
       "    .dataframe thead th {\n",
       "        text-align: right;\n",
       "    }\n",
       "</style>\n",
       "<table border=\"1\" class=\"dataframe\">\n",
       "  <thead>\n",
       "    <tr style=\"text-align: right;\">\n",
       "      <th></th>\n",
       "      <th>Claim_number</th>\n",
       "      <th>Paid_Amount</th>\n",
       "      <th>hospitals</th>\n",
       "      <th>Vendors</th>\n",
       "    </tr>\n",
       "  </thead>\n",
       "  <tbody>\n",
       "    <tr>\n",
       "      <th>count</th>\n",
       "      <td>10000.00000</td>\n",
       "      <td>10000.000000</td>\n",
       "      <td>10000.000000</td>\n",
       "      <td>10000.000000</td>\n",
       "    </tr>\n",
       "    <tr>\n",
       "      <th>mean</th>\n",
       "      <td>4999.50000</td>\n",
       "      <td>4006.759400</td>\n",
       "      <td>4.407400</td>\n",
       "      <td>4.493700</td>\n",
       "    </tr>\n",
       "    <tr>\n",
       "      <th>std</th>\n",
       "      <td>2886.89568</td>\n",
       "      <td>2301.456989</td>\n",
       "      <td>2.721243</td>\n",
       "      <td>2.885168</td>\n",
       "    </tr>\n",
       "    <tr>\n",
       "      <th>min</th>\n",
       "      <td>0.00000</td>\n",
       "      <td>0.000000</td>\n",
       "      <td>0.000000</td>\n",
       "      <td>0.000000</td>\n",
       "    </tr>\n",
       "    <tr>\n",
       "      <th>25%</th>\n",
       "      <td>2499.75000</td>\n",
       "      <td>1996.750000</td>\n",
       "      <td>2.000000</td>\n",
       "      <td>2.000000</td>\n",
       "    </tr>\n",
       "    <tr>\n",
       "      <th>50%</th>\n",
       "      <td>4999.50000</td>\n",
       "      <td>4012.500000</td>\n",
       "      <td>5.000000</td>\n",
       "      <td>5.000000</td>\n",
       "    </tr>\n",
       "    <tr>\n",
       "      <th>75%</th>\n",
       "      <td>7499.25000</td>\n",
       "      <td>5997.000000</td>\n",
       "      <td>7.000000</td>\n",
       "      <td>7.000000</td>\n",
       "    </tr>\n",
       "    <tr>\n",
       "      <th>max</th>\n",
       "      <td>9999.00000</td>\n",
       "      <td>7998.000000</td>\n",
       "      <td>8.000000</td>\n",
       "      <td>9.000000</td>\n",
       "    </tr>\n",
       "  </tbody>\n",
       "</table>\n",
       "</div>"
      ],
      "text/plain": [
       "       Claim_number   Paid_Amount     hospitals       Vendors\n",
       "count   10000.00000  10000.000000  10000.000000  10000.000000\n",
       "mean     4999.50000   4006.759400      4.407400      4.493700\n",
       "std      2886.89568   2301.456989      2.721243      2.885168\n",
       "min         0.00000      0.000000      0.000000      0.000000\n",
       "25%      2499.75000   1996.750000      2.000000      2.000000\n",
       "50%      4999.50000   4012.500000      5.000000      5.000000\n",
       "75%      7499.25000   5997.000000      7.000000      7.000000\n",
       "max      9999.00000   7998.000000      8.000000      9.000000"
      ]
     },
     "execution_count": 23,
     "metadata": {},
     "output_type": "execute_result"
    }
   ],
   "source": [
    "data.describe()"
   ]
  },
  {
   "cell_type": "code",
   "execution_count": 24,
   "id": "14f317f0",
   "metadata": {},
   "outputs": [],
   "source": [
    "#Considering columns which are most useful for the classification\n",
    "data=data.drop('Date_paid', axis=1)"
   ]
  },
  {
   "cell_type": "code",
   "execution_count": 25,
   "id": "e0dfa6e4",
   "metadata": {},
   "outputs": [],
   "source": [
    "data=data.drop('Claim_number', axis=1)"
   ]
  },
  {
   "cell_type": "code",
   "execution_count": 26,
   "id": "2d5df8f5",
   "metadata": {},
   "outputs": [
    {
     "data": {
      "text/html": [
       "<div>\n",
       "<style scoped>\n",
       "    .dataframe tbody tr th:only-of-type {\n",
       "        vertical-align: middle;\n",
       "    }\n",
       "\n",
       "    .dataframe tbody tr th {\n",
       "        vertical-align: top;\n",
       "    }\n",
       "\n",
       "    .dataframe thead th {\n",
       "        text-align: right;\n",
       "    }\n",
       "</style>\n",
       "<table border=\"1\" class=\"dataframe\">\n",
       "  <thead>\n",
       "    <tr style=\"text-align: right;\">\n",
       "      <th></th>\n",
       "      <th>Paid_Amount</th>\n",
       "      <th>hospitals</th>\n",
       "      <th>Vendors</th>\n",
       "    </tr>\n",
       "  </thead>\n",
       "  <tbody>\n",
       "    <tr>\n",
       "      <th>0</th>\n",
       "      <td>4743</td>\n",
       "      <td>4</td>\n",
       "      <td>6</td>\n",
       "    </tr>\n",
       "    <tr>\n",
       "      <th>1</th>\n",
       "      <td>436</td>\n",
       "      <td>6</td>\n",
       "      <td>3</td>\n",
       "    </tr>\n",
       "    <tr>\n",
       "      <th>2</th>\n",
       "      <td>5108</td>\n",
       "      <td>5</td>\n",
       "      <td>5</td>\n",
       "    </tr>\n",
       "    <tr>\n",
       "      <th>3</th>\n",
       "      <td>1616</td>\n",
       "      <td>2</td>\n",
       "      <td>3</td>\n",
       "    </tr>\n",
       "    <tr>\n",
       "      <th>4</th>\n",
       "      <td>3861</td>\n",
       "      <td>3</td>\n",
       "      <td>6</td>\n",
       "    </tr>\n",
       "  </tbody>\n",
       "</table>\n",
       "</div>"
      ],
      "text/plain": [
       "   Paid_Amount  hospitals  Vendors\n",
       "0         4743          4        6\n",
       "1          436          6        3\n",
       "2         5108          5        5\n",
       "3         1616          2        3\n",
       "4         3861          3        6"
      ]
     },
     "execution_count": 26,
     "metadata": {},
     "output_type": "execute_result"
    }
   ],
   "source": [
    "data.head()"
   ]
  },
  {
   "cell_type": "code",
   "execution_count": 27,
   "id": "9833b092",
   "metadata": {},
   "outputs": [
    {
     "data": {
      "text/html": [
       "<div>\n",
       "<style scoped>\n",
       "    .dataframe tbody tr th:only-of-type {\n",
       "        vertical-align: middle;\n",
       "    }\n",
       "\n",
       "    .dataframe tbody tr th {\n",
       "        vertical-align: top;\n",
       "    }\n",
       "\n",
       "    .dataframe thead th {\n",
       "        text-align: right;\n",
       "    }\n",
       "</style>\n",
       "<table border=\"1\" class=\"dataframe\">\n",
       "  <thead>\n",
       "    <tr style=\"text-align: right;\">\n",
       "      <th></th>\n",
       "      <th>Overly Paid</th>\n",
       "    </tr>\n",
       "  </thead>\n",
       "  <tbody>\n",
       "    <tr>\n",
       "      <th>0</th>\n",
       "      <td>0</td>\n",
       "    </tr>\n",
       "    <tr>\n",
       "      <th>1</th>\n",
       "      <td>0</td>\n",
       "    </tr>\n",
       "    <tr>\n",
       "      <th>2</th>\n",
       "      <td>1</td>\n",
       "    </tr>\n",
       "    <tr>\n",
       "      <th>3</th>\n",
       "      <td>0</td>\n",
       "    </tr>\n",
       "    <tr>\n",
       "      <th>4</th>\n",
       "      <td>0</td>\n",
       "    </tr>\n",
       "  </tbody>\n",
       "</table>\n",
       "</div>"
      ],
      "text/plain": [
       "  Overly Paid\n",
       "0           0\n",
       "1           0\n",
       "2           1\n",
       "3           0\n",
       "4           0"
      ]
     },
     "execution_count": 27,
     "metadata": {},
     "output_type": "execute_result"
    }
   ],
   "source": [
    "target.head()"
   ]
  },
  {
   "cell_type": "code",
   "execution_count": 28,
   "id": "4f35d24f",
   "metadata": {},
   "outputs": [],
   "source": [
    "data= data.astype(int)\n",
    "target= target.astype(int)"
   ]
  },
  {
   "cell_type": "code",
   "execution_count": 29,
   "id": "6d604d3e",
   "metadata": {},
   "outputs": [],
   "source": [
    "Xtrain, Xtest, ytrain, ytest = train_test_split(data, target,\n",
    "                                                random_state=0)"
   ]
  },
  {
   "cell_type": "code",
   "execution_count": 30,
   "id": "c6b82ac1",
   "metadata": {},
   "outputs": [],
   "source": [
    "#Standardising the dataframe to get it into a single value\n",
    "from sklearn.preprocessing import StandardScaler\n",
    "sc_x = StandardScaler()\n",
    "xtrain = sc_x.fit_transform(Xtrain) \n",
    "xtest = sc_x.transform(Xtest)"
   ]
  },
  {
   "cell_type": "code",
   "execution_count": 31,
   "id": "ecf27c07",
   "metadata": {},
   "outputs": [
    {
     "name": "stdout",
     "output_type": "stream",
     "text": [
      "(7500, 3)\n",
      "(2500, 3)\n",
      "(7500, 1)\n",
      "(2500, 1)\n"
     ]
    }
   ],
   "source": [
    "print(Xtrain.shape)\n",
    "print(Xtest.shape)\n",
    "print(ytrain.shape)\n",
    "print(ytest.shape)"
   ]
  },
  {
   "cell_type": "code",
   "execution_count": 34,
   "id": "e0b1782e",
   "metadata": {},
   "outputs": [
    {
     "ename": "NameError",
     "evalue": "name 'ypred' is not defined",
     "output_type": "error",
     "traceback": [
      "\u001b[1;31m---------------------------------------------------------------------------\u001b[0m",
      "\u001b[1;31mNameError\u001b[0m                                 Traceback (most recent call last)",
      "Input \u001b[1;32mIn [34]\u001b[0m, in \u001b[0;36m<cell line: 3>\u001b[1;34m()\u001b[0m\n\u001b[0;32m      1\u001b[0m \u001b[38;5;66;03m#Checking the precision and recall of a randomforest classifier\u001b[39;00m\n\u001b[0;32m      2\u001b[0m \u001b[38;5;28;01mfrom\u001b[39;00m \u001b[38;5;21;01msklearn\u001b[39;00m \u001b[38;5;28;01mimport\u001b[39;00m metrics\n\u001b[1;32m----> 3\u001b[0m \u001b[38;5;28mprint\u001b[39m(metrics\u001b[38;5;241m.\u001b[39mclassification_report(\u001b[43mypred\u001b[49m, ytest))\n",
      "\u001b[1;31mNameError\u001b[0m: name 'ypred' is not defined"
     ]
    }
   ],
   "source": [
    "#Checking the precision and recall of a randomforest classifier\n",
    "from sklearn import metrics\n",
    "print(metrics.classification_report(ypred, ytest))"
   ]
  },
  {
   "cell_type": "code",
   "execution_count": 35,
   "id": "8ac261f2",
   "metadata": {},
   "outputs": [
    {
     "name": "stderr",
     "output_type": "stream",
     "text": [
      "C:\\Users\\Vardhan\\AppData\\Local\\Temp\\ipykernel_340\\612257564.py:3: DataConversionWarning: A column-vector y was passed when a 1d array was expected. Please change the shape of y to (n_samples,), for example using ravel().\n",
      "  model.fit(Xtrain, ytrain)\n"
     ]
    }
   ],
   "source": [
    "#Applying Randomforest\n",
    "model = RandomForestClassifier(n_estimators=1000)\n",
    "model.fit(Xtrain, ytrain)\n",
    "ypred = model.predict(Xtest)"
   ]
  },
  {
   "cell_type": "code",
   "execution_count": 36,
   "id": "487c724e",
   "metadata": {},
   "outputs": [
    {
     "name": "stdout",
     "output_type": "stream",
     "text": [
      "(7500, 3)\n",
      "(2500, 3)\n",
      "(7500, 1)\n",
      "(2500, 1)\n"
     ]
    }
   ],
   "source": [
    "print(Xtrain.shape)\n",
    "print(Xtest.shape)\n",
    "print(ytrain.shape)\n",
    "print(ytest.shape)"
   ]
  },
  {
   "cell_type": "code",
   "execution_count": 37,
   "id": "c541245c",
   "metadata": {},
   "outputs": [
    {
     "name": "stdout",
     "output_type": "stream",
     "text": [
      "              precision    recall  f1-score   support\n",
      "\n",
      "           0       1.00      1.00      1.00      1517\n",
      "           1       1.00      1.00      1.00       983\n",
      "\n",
      "    accuracy                           1.00      2500\n",
      "   macro avg       1.00      1.00      1.00      2500\n",
      "weighted avg       1.00      1.00      1.00      2500\n",
      "\n"
     ]
    }
   ],
   "source": [
    "from sklearn import metrics\n",
    "print(metrics.classification_report(ypred, ytest))"
   ]
  },
  {
   "cell_type": "code",
   "execution_count": 38,
   "id": "49b0850e",
   "metadata": {},
   "outputs": [],
   "source": [
    "import seaborn as sns"
   ]
  },
  {
   "cell_type": "code",
   "execution_count": 39,
   "id": "7a7392aa",
   "metadata": {},
   "outputs": [
    {
     "data": {
      "text/plain": [
       "Text(111.12, 0.5, 'predicted label')"
      ]
     },
     "execution_count": 39,
     "metadata": {},
     "output_type": "execute_result"
    },
    {
     "data": {
      "image/png": "[encoded data removed]",
      "text/plain": [
       "<Figure size 576x432 with 1 Axes>"
      ]
     },
     "metadata": {
      "needs_background": "light"
     },
     "output_type": "display_data"
    }
   ],
   "source": [
    "mat = confusion_matrix(ytest, ypred)\n",
    "plt.figure(figsize=(8, 6))\n",
    "sns.heatmap(mat.T, square=True, annot=True, fmt='d', cbar=False)#.T here is transpose\n",
    "plt.xlabel('true label')\n",
    "plt.ylabel('predicted label')"
   ]
  },
  {
   "cell_type": "code",
   "execution_count": 41,
   "id": "bd0c724f",
   "metadata": {},
   "outputs": [
    {
     "name": "stdout",
     "output_type": "stream",
     "text": [
      "Accuracy :  1.0\n"
     ]
    }
   ],
   "source": [
    "from sklearn.metrics import accuracy_score\n",
    "print (\"Accuracy : \", accuracy_score(ytest, ypred))"
   ]
  },
  {
   "cell_type": "code",
   "execution_count": null,
   "id": "f79d1203",
   "metadata": {},
   "outputs": [],
   "source": []
  }
 ],
 "metadata": {
  "kernelspec": {
   "display_name": "Python 3 (ipykernel)",
   "language": "python",
   "name": "python3"
  },
  "language_info": {
   "codemirror_mode": {
    "name": "ipython",
    "version": 3
   },
   "file_extension": ".py",
   "mimetype": "text/x-python",
   "name": "python",
   "nbconvert_exporter": "python",
   "pygments_lexer": "ipython3",
   "version": "3.9.12"
  }
 },
 "nbformat": 4,
 "nbformat_minor": 5
}
